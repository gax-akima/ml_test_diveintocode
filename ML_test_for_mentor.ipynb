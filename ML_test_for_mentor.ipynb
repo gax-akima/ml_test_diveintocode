{
  "nbformat": 4,
  "nbformat_minor": 0,
  "metadata": {
    "kernelspec": {
      "display_name": "pyenv3.7",
      "language": "python",
      "name": "pyenv3.7"
    },
    "language_info": {
      "codemirror_mode": {
        "name": "ipython",
        "version": 3
      },
      "file_extension": ".py",
      "mimetype": "text/x-python",
      "name": "python",
      "nbconvert_exporter": "python",
      "pygments_lexer": "ipython3",
      "version": "3.7.7"
    },
    "colab": {
      "name": "ML_test_for_mentor.ipynb",
      "provenance": [],
      "collapsed_sections": [],
      "include_colab_link": true
    }
  },
  "cells": [
    {
      "cell_type": "markdown",
      "metadata": {
        "id": "view-in-github",
        "colab_type": "text"
      },
      "source": [
        "<a href=\"https://colab.research.google.com/github/gax-akima/ml_test_diveintocode/blob/main/ML_test_for_mentor.ipynb\" target=\"_parent\"><img src=\"https://colab.research.google.com/assets/colab-badge.svg\" alt=\"Open In Colab\"/></a>"
      ]
    },
    {
      "cell_type": "markdown",
      "metadata": {
        "id": "PeKgsbNkGqkA"
      },
      "source": [
        "#This page is the recruitment page for online mentors at DIVE INTO CODE. We require that you answer assignments in Japanese using a translation tool such as Google Translate/DeepL translate. This is because Japanese students will be asking questions and submitting assignments in Japanese, and you need to understand them.\n",
        "\n",
        "#Let's start answering the questions below. The answers will be uploaded to Github. Please send an email to ml_test[@]gax-tech.com to report the completion of the test, and we will review and reply within a week."
      ]
    },
    {
      "cell_type": "markdown",
      "metadata": {
        "id": "taTDRbGsBLTP"
      },
      "source": [
        "\n",
        "## 概要　\n",
        "\n",
        "機械学習エンジニアコースのワークサンプルでは、メンター業務を想定した2つのタスクに取り組んでいただきます。\n",
        "\n",
        "【1】3つのメンタリング質問対応\n",
        "\n",
        "【2】課題回答・改善案作成\n",
        "\n",
        "### 取り組み方の基本原則\n",
        "\n",
        "ワークサンプルへの取り組む方の基本原則をお伝えします。  \n",
        "\n",
        "- 受講生に対して優しく丁寧に対応すること\n",
        "- 受講生が卒業後自立できるような教え方をすること\n",
        "- 事前に説明していない言葉や受講生のレベルを考慮すること"
      ]
    },
    {
      "cell_type": "markdown",
      "metadata": {
        "id": "bP7aWbX6BmkI"
      },
      "source": [
        "## 【1】メンタリング質問対応 Q1\n",
        "\n",
        "最初のワークサンプルはメンタリング質問対応です。\n",
        "\n",
        "コース受講1週目の方から教室で「PythonでNumPyを使いドット積を計算しようとしたがエラーが出た。なぜこうなるのか」と質問されたとします。この場合にあなたならばどのように対応するかを文章で説明してください。\n",
        "\n",
        "あなたは以下の前提情報を持っているとします。\n",
        "\n",
        "- この質問をされた方はPythonや大学レベルの数学を扱った経験がほとんどない\n",
        "- コースでは今後NumPyによる配列の操作を扱う機会が多い\n",
        "\n",
        "**Jupyter Notebookの実行画面**\n",
        "\n",
        "[![Image from Gyazo](https://t.gyazo.com/teams/diveintocode/e9e3c6e91b7d4abd99001aa0848e4059.png)](https://diveintocode.gyazo.com/e9e3c6e91b7d4abd99001aa0848e4059)\n",
        "\n",
        "**実行したコード**\n",
        "\n",
        "```py\n",
        "import numpy as np\n",
        "\n",
        "a = np.array([[-1,2,3]])\n",
        "b = np.array([[0,2,1]])\n",
        "np.dot(a,b)\n",
        "```\n",
        "\n",
        "\n"
      ]
    },
    {
      "cell_type": "markdown",
      "metadata": {
        "id": "zttxmVZJAySD"
      },
      "source": [
        "### 【1】メンタリング質問対応 Q2"
      ]
    },
    {
      "cell_type": "markdown",
      "metadata": {
        "id": "MZDmwrXaAySG"
      },
      "source": [
        "コース受講1週目の方から教室で「Pythonでpandasを使い、特定カラムの値の大きい順に並び替えようとしたら、意図した結果にならなかった。なぜこうなるのか？」と質問されたとします。この場合にあなたならばどのように対応するかを文章で説明してください。\n",
        "\n",
        "あなたは以下の前提情報を持っているとします。\n",
        "\n",
        "- この質問をされた方はPythonや大学レベルの数学を扱った経験がほとんどない\n",
        "- コースでは今後Pandasによるデータハンドリングを扱う機会が多い"
      ]
    },
    {
      "cell_type": "code",
      "metadata": {
        "id": "b2alEOtrAySG",
        "outputId": "dd9657fb-e1d9-4872-860e-17c0ffd0dd85"
      },
      "source": [
        "import pandas as pd\n",
        "\n",
        "df = pd.DataFrame({'name': ['A', 'B', 'C', 'D', 'E'], 'value':['3', '10', '1', '5', '20']})\n",
        "df.sort_values('value', ascending=False)"
      ],
      "execution_count": null,
      "outputs": [
        {
          "output_type": "execute_result",
          "data": {
            "text/html": [
              "<div>\n",
              "<style scoped>\n",
              "    .dataframe tbody tr th:only-of-type {\n",
              "        vertical-align: middle;\n",
              "    }\n",
              "\n",
              "    .dataframe tbody tr th {\n",
              "        vertical-align: top;\n",
              "    }\n",
              "\n",
              "    .dataframe thead th {\n",
              "        text-align: right;\n",
              "    }\n",
              "</style>\n",
              "<table border=\"1\" class=\"dataframe\">\n",
              "  <thead>\n",
              "    <tr style=\"text-align: right;\">\n",
              "      <th></th>\n",
              "      <th>name</th>\n",
              "      <th>value</th>\n",
              "    </tr>\n",
              "  </thead>\n",
              "  <tbody>\n",
              "    <tr>\n",
              "      <th>3</th>\n",
              "      <td>D</td>\n",
              "      <td>5</td>\n",
              "    </tr>\n",
              "    <tr>\n",
              "      <th>0</th>\n",
              "      <td>A</td>\n",
              "      <td>3</td>\n",
              "    </tr>\n",
              "    <tr>\n",
              "      <th>4</th>\n",
              "      <td>E</td>\n",
              "      <td>20</td>\n",
              "    </tr>\n",
              "    <tr>\n",
              "      <th>1</th>\n",
              "      <td>B</td>\n",
              "      <td>10</td>\n",
              "    </tr>\n",
              "    <tr>\n",
              "      <th>2</th>\n",
              "      <td>C</td>\n",
              "      <td>1</td>\n",
              "    </tr>\n",
              "  </tbody>\n",
              "</table>\n",
              "</div>"
            ],
            "text/plain": [
              "  name value\n",
              "3    D     5\n",
              "0    A     3\n",
              "4    E    20\n",
              "1    B    10\n",
              "2    C     1"
            ]
          },
          "metadata": {
            "tags": []
          },
          "execution_count": 1
        }
      ]
    },
    {
      "cell_type": "markdown",
      "metadata": {
        "id": "LDdU_NwnAySI"
      },
      "source": [
        "### 【1】メンタリング質問対応 Q3"
      ]
    },
    {
      "cell_type": "markdown",
      "metadata": {
        "id": "v2cPE_gpAySI"
      },
      "source": [
        "コース受講1週目の方から教室で「Pythonでpandasを使い、DataFrameを複製して、あるカラムの値を10倍にして差分を計算したところ、値が0になってしまった。なぜこうなるのか？」と質問されたとします。この場合にあなたならばどのように対応するかを文章で説明してください。\n",
        "\n",
        "あなたは以下の前提情報を持っているとします。\n",
        "\n",
        "- この質問をされた方はPythonや大学レベルの数学を扱った経験がほとんどない\n",
        "- コースでは今後Pandasによるデータハンドリングを扱う機会が多い"
      ]
    },
    {
      "cell_type": "code",
      "metadata": {
        "id": "gAxOrU8qFLhw",
        "outputId": "59327274-0dd9-4fce-c888-d873f03d3015"
      },
      "source": [
        "import pandas as pd\n",
        "\n",
        "df = pd.DataFrame({'x': [1,2,3,4,5]})\n",
        "\n",
        "df_temp = df\n",
        "df['x'] = df['x'] * 10\n",
        "df['x'] - df_temp['x']"
      ],
      "execution_count": null,
      "outputs": [
        {
          "output_type": "execute_result",
          "data": {
            "text/plain": [
              "0    0\n",
              "1    0\n",
              "2    0\n",
              "3    0\n",
              "4    0\n",
              "Name: x, dtype: int64"
            ]
          },
          "metadata": {
            "tags": []
          },
          "execution_count": 6
        }
      ]
    },
    {
      "cell_type": "markdown",
      "metadata": {
        "id": "Pbu-LLVQFtMB"
      },
      "source": [
        "### Q1,Q2,Q3の課題をGthubにアップロードして閲覧できるようにしましょう。\n",
        "\n",
        "`worksample`というGithubリポジトリを作成し、作成した文章を`1_mentoring.md`というファイル名で`Github`上で見れるようにしましょう。"
      ]
    },
    {
      "cell_type": "markdown",
      "metadata": {
        "id": "J5Uygx23GJuZ"
      },
      "source": [
        "## 【2】課題回答・改善案作成\n",
        "\n",
        "次のワークサンプルは課題回答・改善案作成です。以下の2種類の課題から指定された課題の回答および改善案の作成行っていただきます。\n",
        "\n",
        "- A Python入門課題 Pythonを使ってみよう\n",
        "- B Sprint10課題 深層学習スクラッチニューラルネットワーク\n",
        "\n",
        "Jupyter Notebookを用いてipynbファイルにPythonコードとMarkdownによる説明を記述してください。Jupyter Notebookを使う環境が手元にない場合は、Google Colaboratoryを使用するのも便利です。\n",
        "\n",
        "課題回答は受講生に対して配布することを想定して書いてください。単純に答えを書くのではなく、例えば以下のような内容を含められると良いでしょう。\n",
        "\n",
        "- 間違えやすい点\n",
        "- 別解\n",
        "- 発展的な内容\n",
        "\n",
        "また、回答作成と並行してこの課題自体を改善していくことも求められます。以下のような観点で改善案を同じipynbファイルに記述してください。こちらは一緒に働くメンバーに向けて伝える文章です。\n",
        "\n",
        "- 追加すると良さそうな記述や問題の案\n",
        "- 分かりにくい記述や不適切な記述の修正案\n",
        "\n",
        "**各課題の説明**\n",
        "\n",
        "- A Python入門課題 Pythonを使ってみよう\n",
        "\n",
        "https://github.com/DiveintoCode-corp/worksample/blob/master/ml_intro.md\n",
        "\n",
        "Python入門セミナーや、フルタイムコースの事前準備用として使用している課題です。長くて1時間以内で解くことを想定しています。\n",
        "\n",
        "- B Sprint10課題 深層学習スクラッチニューラルネットワーク\n",
        "\n",
        "https://github.com/DiveintoCode-corp/worksample/blob/master/ml_sprint10.md\n",
        "\n",
        "日本人受講生がコースを受講して2ヶ月目、教室で2日間かけて解く課題です。受講生はここではじめてニューラルネットワークに触れることになります。線形回帰、ロジスティック回帰、SVM、決定木、K-meansに続いて6つ目のスクラッチ課題ですので、教師あり学習の基本的な部分などは理解している状態です。この次の課題は「Sprint11課題 深層学習スクラッチディープニューラルネットワーク」として、ここで作成したニューラルネットワーククラスを拡張していきます。\n",
        "\n",
        "### 作成した文章をGithubに公開\n",
        "\n",
        "Githubリポジトリ`worksample`内に、作成した回答・改善案を`2_example_answer.ipynb`というファイル名で`Github`上で見れるようにしましょう。複数の課題の回答を作成した場合は区別できる名前にしてください。\n",
        "\n",
        "## 提出方法\n",
        "\n",
        "上記の内容に取り組んだものを反映した、あなたのGithubリポジトリのURLをml_test[@]gax-tech.comご提出ください。  \n",
        "なお、ご提出前に以下の項目をすべて満たしているかを確認しましょう。  \n",
        "\n",
        "- [ ] `1_mentoring.md`に【1】メンタリング質問対応方法Q1,Q2,Q3を文章で記述した\n",
        "- [ ] `2_example_answer.ipynb`に【2】回答・改善案を記述した\n",
        "\n",
        "### 提出期限\n",
        "\n",
        "提出期限は、エチオピア時間の3月21日23：59までです。\n",
        "\n",
        "以上でワークサンプルは終了です。  \n",
        "お疲れ様でした。GAXが提出した内容を確認し、回答日から1週間以内に採用の可否をメールアドレスに連絡します。\n"
      ]
    }
  ]
}